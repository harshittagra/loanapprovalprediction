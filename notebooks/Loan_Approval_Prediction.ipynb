{
  "cells": [
    {
      "cell_type": "markdown",
      "metadata": {
        "id": "Th6uJv6wwOKa"
      },
      "source": [
        "# 📚 Importing Libraries 📚"
      ]
    },
    {
      "cell_type": "code",
      "execution_count": 1,
      "metadata": {
        "id": "2_SLQWm0_KOU"
      },
      "outputs": [],
      "source": [
        "import pandas as pd\n",
        "import numpy as np\n",
        "import seaborn as sns\n",
        "import matplotlib.pyplot as plt\n",
        "import warnings\n",
        "warnings.filterwarnings('ignore')\n",
        "%matplotlib inline\n",
        "\n",
        "from sklearn.pipeline import Pipeline\n",
        "from sklearn.preprocessing import StandardScaler ## Feature Scaling\n",
        "from sklearn.preprocessing import OneHotEncoder ## categorical to numerical\n",
        "from sklearn.compose import ColumnTransformer\n",
        "from sklearn.model_selection import train_test_split\n",
        "from sklearn.metrics import accuracy_score,confusion_matrix,classification_report\n",
        "\n",
        "from sklearn.linear_model import LogisticRegression\n",
        "from sklearn.tree import DecisionTreeClassifier\n",
        "from sklearn.ensemble import RandomForestClassifier\n"
      ]
    },
    {
      "cell_type": "markdown",
      "metadata": {
        "id": "uFU6TgCowX-j"
      },
      "source": [
        "# ⏳ Loading the dataset ⏳</span>\n"
      ]
    },
    {
      "cell_type": "code",
      "execution_count": 13,
      "metadata": {
        "id": "jnuuwchV_YmK"
      },
      "outputs": [],
      "source": [
        "df=pd.read_csv('data/LoanApprovalPrediction.csv')"
      ]
    },
    {
      "cell_type": "markdown",
      "metadata": {
        "id": "K0BgKLXRwfCa"
      },
      "source": [
        "# 🧠 Understanding of data 🧠"
      ]
    },
    {
      "cell_type": "code",
      "execution_count": 14,
      "metadata": {
        "colab": {
          "base_uri": "https://localhost:8080/",
          "height": 206
        },
        "id": "BObLJcRJ_okX",
        "outputId": "d49da474-7520-45b7-f581-98c2129f771c"
      },
      "outputs": [
        {
          "data": {
            "text/html": [
              "<div>\n",
              "<style scoped>\n",
              "    .dataframe tbody tr th:only-of-type {\n",
              "        vertical-align: middle;\n",
              "    }\n",
              "\n",
              "    .dataframe tbody tr th {\n",
              "        vertical-align: top;\n",
              "    }\n",
              "\n",
              "    .dataframe thead th {\n",
              "        text-align: right;\n",
              "    }\n",
              "</style>\n",
              "<table border=\"1\" class=\"dataframe\">\n",
              "  <thead>\n",
              "    <tr style=\"text-align: right;\">\n",
              "      <th></th>\n",
              "      <th>Loan_ID</th>\n",
              "      <th>Gender</th>\n",
              "      <th>Married</th>\n",
              "      <th>Dependents</th>\n",
              "      <th>Education</th>\n",
              "      <th>Self_Employed</th>\n",
              "      <th>ApplicantIncome</th>\n",
              "      <th>CoapplicantIncome</th>\n",
              "      <th>LoanAmount</th>\n",
              "      <th>Loan_Amount_Term</th>\n",
              "      <th>Credit_History</th>\n",
              "      <th>Property_Area</th>\n",
              "      <th>Loan_Status</th>\n",
              "    </tr>\n",
              "  </thead>\n",
              "  <tbody>\n",
              "    <tr>\n",
              "      <th>0</th>\n",
              "      <td>LP001002</td>\n",
              "      <td>Male</td>\n",
              "      <td>No</td>\n",
              "      <td>0.0</td>\n",
              "      <td>Graduate</td>\n",
              "      <td>No</td>\n",
              "      <td>5849</td>\n",
              "      <td>0.0</td>\n",
              "      <td>NaN</td>\n",
              "      <td>360.0</td>\n",
              "      <td>1.0</td>\n",
              "      <td>Urban</td>\n",
              "      <td>Y</td>\n",
              "    </tr>\n",
              "    <tr>\n",
              "      <th>1</th>\n",
              "      <td>LP001003</td>\n",
              "      <td>Male</td>\n",
              "      <td>Yes</td>\n",
              "      <td>1.0</td>\n",
              "      <td>Graduate</td>\n",
              "      <td>No</td>\n",
              "      <td>4583</td>\n",
              "      <td>1508.0</td>\n",
              "      <td>128.0</td>\n",
              "      <td>360.0</td>\n",
              "      <td>1.0</td>\n",
              "      <td>Rural</td>\n",
              "      <td>N</td>\n",
              "    </tr>\n",
              "    <tr>\n",
              "      <th>2</th>\n",
              "      <td>LP001005</td>\n",
              "      <td>Male</td>\n",
              "      <td>Yes</td>\n",
              "      <td>0.0</td>\n",
              "      <td>Graduate</td>\n",
              "      <td>Yes</td>\n",
              "      <td>3000</td>\n",
              "      <td>0.0</td>\n",
              "      <td>66.0</td>\n",
              "      <td>360.0</td>\n",
              "      <td>1.0</td>\n",
              "      <td>Urban</td>\n",
              "      <td>Y</td>\n",
              "    </tr>\n",
              "    <tr>\n",
              "      <th>3</th>\n",
              "      <td>LP001006</td>\n",
              "      <td>Male</td>\n",
              "      <td>Yes</td>\n",
              "      <td>0.0</td>\n",
              "      <td>Not Graduate</td>\n",
              "      <td>No</td>\n",
              "      <td>2583</td>\n",
              "      <td>2358.0</td>\n",
              "      <td>120.0</td>\n",
              "      <td>360.0</td>\n",
              "      <td>1.0</td>\n",
              "      <td>Urban</td>\n",
              "      <td>Y</td>\n",
              "    </tr>\n",
              "    <tr>\n",
              "      <th>4</th>\n",
              "      <td>LP001008</td>\n",
              "      <td>Male</td>\n",
              "      <td>No</td>\n",
              "      <td>0.0</td>\n",
              "      <td>Graduate</td>\n",
              "      <td>No</td>\n",
              "      <td>6000</td>\n",
              "      <td>0.0</td>\n",
              "      <td>141.0</td>\n",
              "      <td>360.0</td>\n",
              "      <td>1.0</td>\n",
              "      <td>Urban</td>\n",
              "      <td>Y</td>\n",
              "    </tr>\n",
              "  </tbody>\n",
              "</table>\n",
              "</div>"
            ],
            "text/plain": [
              "    Loan_ID Gender Married  Dependents     Education Self_Employed  \\\n",
              "0  LP001002   Male      No         0.0      Graduate            No   \n",
              "1  LP001003   Male     Yes         1.0      Graduate            No   \n",
              "2  LP001005   Male     Yes         0.0      Graduate           Yes   \n",
              "3  LP001006   Male     Yes         0.0  Not Graduate            No   \n",
              "4  LP001008   Male      No         0.0      Graduate            No   \n",
              "\n",
              "   ApplicantIncome  CoapplicantIncome  LoanAmount  Loan_Amount_Term  \\\n",
              "0             5849                0.0         NaN             360.0   \n",
              "1             4583             1508.0       128.0             360.0   \n",
              "2             3000                0.0        66.0             360.0   \n",
              "3             2583             2358.0       120.0             360.0   \n",
              "4             6000                0.0       141.0             360.0   \n",
              "\n",
              "   Credit_History Property_Area Loan_Status  \n",
              "0             1.0         Urban           Y  \n",
              "1             1.0         Rural           N  \n",
              "2             1.0         Urban           Y  \n",
              "3             1.0         Urban           Y  \n",
              "4             1.0         Urban           Y  "
            ]
          },
          "execution_count": 14,
          "metadata": {},
          "output_type": "execute_result"
        }
      ],
      "source": [
        "df.head()"
      ]
    },
    {
      "cell_type": "code",
      "execution_count": 15,
      "metadata": {
        "colab": {
          "base_uri": "https://localhost:8080/"
        },
        "id": "rO5Z3YtmvV1y",
        "outputId": "ad9b800d-720e-4698-c74a-de1265d11a88"
      },
      "outputs": [
        {
          "data": {
            "text/plain": [
              "Index(['Loan_ID', 'Gender', 'Married', 'Dependents', 'Education',\n",
              "       'Self_Employed', 'ApplicantIncome', 'CoapplicantIncome', 'LoanAmount',\n",
              "       'Loan_Amount_Term', 'Credit_History', 'Property_Area', 'Loan_Status'],\n",
              "      dtype='object')"
            ]
          },
          "execution_count": 15,
          "metadata": {},
          "output_type": "execute_result"
        }
      ],
      "source": [
        "df.columns"
      ]
    },
    {
      "cell_type": "code",
      "execution_count": 16,
      "metadata": {
        "colab": {
          "base_uri": "https://localhost:8080/"
        },
        "id": "U8fvsMwi_qaZ",
        "outputId": "1b0d6cbd-58fb-46be-d93a-e42bb80f6118"
      },
      "outputs": [
        {
          "data": {
            "text/plain": [
              "(598, 13)"
            ]
          },
          "execution_count": 16,
          "metadata": {},
          "output_type": "execute_result"
        }
      ],
      "source": [
        "df.shape"
      ]
    },
    {
      "cell_type": "code",
      "execution_count": 17,
      "metadata": {
        "colab": {
          "base_uri": "https://localhost:8080/"
        },
        "id": "I19m7HBqBRYr",
        "outputId": "d1853306-0eb1-469a-cae7-dac582bd8cfe"
      },
      "outputs": [
        {
          "name": "stdout",
          "output_type": "stream",
          "text": [
            "<class 'pandas.core.frame.DataFrame'>\n",
            "RangeIndex: 598 entries, 0 to 597\n",
            "Data columns (total 13 columns):\n",
            " #   Column             Non-Null Count  Dtype  \n",
            "---  ------             --------------  -----  \n",
            " 0   Loan_ID            598 non-null    object \n",
            " 1   Gender             598 non-null    object \n",
            " 2   Married            598 non-null    object \n",
            " 3   Dependents         586 non-null    float64\n",
            " 4   Education          598 non-null    object \n",
            " 5   Self_Employed      598 non-null    object \n",
            " 6   ApplicantIncome    598 non-null    int64  \n",
            " 7   CoapplicantIncome  598 non-null    float64\n",
            " 8   LoanAmount         577 non-null    float64\n",
            " 9   Loan_Amount_Term   584 non-null    float64\n",
            " 10  Credit_History     549 non-null    float64\n",
            " 11  Property_Area      598 non-null    object \n",
            " 12  Loan_Status        598 non-null    object \n",
            "dtypes: float64(5), int64(1), object(7)\n",
            "memory usage: 60.9+ KB\n"
          ]
        }
      ],
      "source": [
        "df.info()"
      ]
    },
    {
      "cell_type": "code",
      "execution_count": 18,
      "metadata": {
        "colab": {
          "base_uri": "https://localhost:8080/"
        },
        "id": "LKxtW8GeBb39",
        "outputId": "6c6d7a15-2218-4bb1-a0cb-72d4af1bfb12"
      },
      "outputs": [
        {
          "data": {
            "text/plain": [
              "Loan_ID               object\n",
              "Gender                object\n",
              "Married               object\n",
              "Dependents           float64\n",
              "Education             object\n",
              "Self_Employed         object\n",
              "ApplicantIncome        int64\n",
              "CoapplicantIncome    float64\n",
              "LoanAmount           float64\n",
              "Loan_Amount_Term     float64\n",
              "Credit_History       float64\n",
              "Property_Area         object\n",
              "Loan_Status           object\n",
              "dtype: object"
            ]
          },
          "execution_count": 18,
          "metadata": {},
          "output_type": "execute_result"
        }
      ],
      "source": [
        "df.dtypes"
      ]
    },
    {
      "cell_type": "code",
      "execution_count": 19,
      "metadata": {
        "colab": {
          "base_uri": "https://localhost:8080/",
          "height": 300
        },
        "id": "qedXkce9K0Pd",
        "outputId": "c8c5554f-1439-4626-9e7d-193e5ef9bcb1"
      },
      "outputs": [
        {
          "data": {
            "text/html": [
              "<div>\n",
              "<style scoped>\n",
              "    .dataframe tbody tr th:only-of-type {\n",
              "        vertical-align: middle;\n",
              "    }\n",
              "\n",
              "    .dataframe tbody tr th {\n",
              "        vertical-align: top;\n",
              "    }\n",
              "\n",
              "    .dataframe thead th {\n",
              "        text-align: right;\n",
              "    }\n",
              "</style>\n",
              "<table border=\"1\" class=\"dataframe\">\n",
              "  <thead>\n",
              "    <tr style=\"text-align: right;\">\n",
              "      <th></th>\n",
              "      <th>Dependents</th>\n",
              "      <th>ApplicantIncome</th>\n",
              "      <th>CoapplicantIncome</th>\n",
              "      <th>LoanAmount</th>\n",
              "      <th>Loan_Amount_Term</th>\n",
              "      <th>Credit_History</th>\n",
              "    </tr>\n",
              "  </thead>\n",
              "  <tbody>\n",
              "    <tr>\n",
              "      <th>count</th>\n",
              "      <td>586.000000</td>\n",
              "      <td>598.000000</td>\n",
              "      <td>598.000000</td>\n",
              "      <td>577.000000</td>\n",
              "      <td>584.000000</td>\n",
              "      <td>549.000000</td>\n",
              "    </tr>\n",
              "    <tr>\n",
              "      <th>mean</th>\n",
              "      <td>0.755973</td>\n",
              "      <td>5292.252508</td>\n",
              "      <td>1631.499866</td>\n",
              "      <td>144.968804</td>\n",
              "      <td>341.917808</td>\n",
              "      <td>0.843352</td>\n",
              "    </tr>\n",
              "    <tr>\n",
              "      <th>std</th>\n",
              "      <td>1.007751</td>\n",
              "      <td>5807.265364</td>\n",
              "      <td>2953.315785</td>\n",
              "      <td>82.704182</td>\n",
              "      <td>65.205994</td>\n",
              "      <td>0.363800</td>\n",
              "    </tr>\n",
              "    <tr>\n",
              "      <th>min</th>\n",
              "      <td>0.000000</td>\n",
              "      <td>150.000000</td>\n",
              "      <td>0.000000</td>\n",
              "      <td>9.000000</td>\n",
              "      <td>12.000000</td>\n",
              "      <td>0.000000</td>\n",
              "    </tr>\n",
              "    <tr>\n",
              "      <th>25%</th>\n",
              "      <td>0.000000</td>\n",
              "      <td>2877.500000</td>\n",
              "      <td>0.000000</td>\n",
              "      <td>100.000000</td>\n",
              "      <td>360.000000</td>\n",
              "      <td>1.000000</td>\n",
              "    </tr>\n",
              "    <tr>\n",
              "      <th>50%</th>\n",
              "      <td>0.000000</td>\n",
              "      <td>3806.000000</td>\n",
              "      <td>1211.500000</td>\n",
              "      <td>127.000000</td>\n",
              "      <td>360.000000</td>\n",
              "      <td>1.000000</td>\n",
              "    </tr>\n",
              "    <tr>\n",
              "      <th>75%</th>\n",
              "      <td>1.750000</td>\n",
              "      <td>5746.000000</td>\n",
              "      <td>2324.000000</td>\n",
              "      <td>167.000000</td>\n",
              "      <td>360.000000</td>\n",
              "      <td>1.000000</td>\n",
              "    </tr>\n",
              "    <tr>\n",
              "      <th>max</th>\n",
              "      <td>3.000000</td>\n",
              "      <td>81000.000000</td>\n",
              "      <td>41667.000000</td>\n",
              "      <td>650.000000</td>\n",
              "      <td>480.000000</td>\n",
              "      <td>1.000000</td>\n",
              "    </tr>\n",
              "  </tbody>\n",
              "</table>\n",
              "</div>"
            ],
            "text/plain": [
              "       Dependents  ApplicantIncome  CoapplicantIncome  LoanAmount  \\\n",
              "count  586.000000       598.000000         598.000000  577.000000   \n",
              "mean     0.755973      5292.252508        1631.499866  144.968804   \n",
              "std      1.007751      5807.265364        2953.315785   82.704182   \n",
              "min      0.000000       150.000000           0.000000    9.000000   \n",
              "25%      0.000000      2877.500000           0.000000  100.000000   \n",
              "50%      0.000000      3806.000000        1211.500000  127.000000   \n",
              "75%      1.750000      5746.000000        2324.000000  167.000000   \n",
              "max      3.000000     81000.000000       41667.000000  650.000000   \n",
              "\n",
              "       Loan_Amount_Term  Credit_History  \n",
              "count        584.000000      549.000000  \n",
              "mean         341.917808        0.843352  \n",
              "std           65.205994        0.363800  \n",
              "min           12.000000        0.000000  \n",
              "25%          360.000000        1.000000  \n",
              "50%          360.000000        1.000000  \n",
              "75%          360.000000        1.000000  \n",
              "max          480.000000        1.000000  "
            ]
          },
          "execution_count": 19,
          "metadata": {},
          "output_type": "execute_result"
        }
      ],
      "source": [
        "df.describe()"
      ]
    },
    {
      "cell_type": "markdown",
      "metadata": {
        "id": "p-PQFl-xwnt6"
      },
      "source": [
        "# 🧹 Data Cleaning 🧹"
      ]
    },
    {
      "cell_type": "markdown",
      "metadata": {
        "id": "PvZEcNPuvnkz"
      },
      "source": [
        "\n",
        "\n",
        "*  Loan_ID doesn't contribute to the decision-making process but can be useful for record-keeping.\n",
        "So we will drop this column\n"
      ]
    },
    {
      "cell_type": "code",
      "execution_count": 20,
      "metadata": {
        "id": "kCLhdyyf4klb"
      },
      "outputs": [],
      "source": [
        "df.drop('Loan_ID',axis=1,inplace=True)"
      ]
    },
    {
      "cell_type": "code",
      "execution_count": 21,
      "metadata": {
        "colab": {
          "base_uri": "https://localhost:8080/"
        },
        "id": "dxNPJcFqwskK",
        "outputId": "1369bdcf-cbf9-4e79-86c8-366517ce8554"
      },
      "outputs": [
        {
          "data": {
            "text/plain": [
              "Gender                0\n",
              "Married               0\n",
              "Dependents           12\n",
              "Education             0\n",
              "Self_Employed         0\n",
              "ApplicantIncome       0\n",
              "CoapplicantIncome     0\n",
              "LoanAmount           21\n",
              "Loan_Amount_Term     14\n",
              "Credit_History       49\n",
              "Property_Area         0\n",
              "Loan_Status           0\n",
              "dtype: int64"
            ]
          },
          "execution_count": 21,
          "metadata": {},
          "output_type": "execute_result"
        }
      ],
      "source": [
        "df.isnull().sum()"
      ]
    },
    {
      "cell_type": "markdown",
      "metadata": {
        "id": "Og_wnp1QyCLT"
      },
      "source": [
        "---\n",
        "\n",
        "As now we can see that we have null values for -\n",
        "\n",
        "1.   Dependents\n",
        "2.   LoanAmount\n",
        "3.   Loan_Amount_Term\n",
        "4.   Credit_History\n",
        "\n",
        "\n",
        "---\n",
        " For filling them firstly we will check that wether there is any outlier present or not.\n",
        "\n",
        "\n",
        "*   if there is outlier present then for numerical column we will fill null values with median.\n",
        "*    if there is no outlier present then for numerical column we will fill null values with mean.\n",
        "\n",
        "\n",
        "\n",
        "\n"
      ]
    },
    {
      "cell_type": "code",
      "execution_count": 22,
      "metadata": {
        "colab": {
          "base_uri": "https://localhost:8080/",
          "height": 447
        },
        "id": "vXJ29j4wx9xD",
        "outputId": "1242ac14-d66e-4245-c411-9939407e3939"
      },
      "outputs": [
        {
          "data": {
            "text/plain": [
              "<Axes: >"
            ]
          },
          "execution_count": 22,
          "metadata": {},
          "output_type": "execute_result"
        },
        {
          "data": {
            "image/png": "[encoded data removed]",
            "text/plain": [
              "<Figure size 640x480 with 1 Axes>"
            ]
          },
          "metadata": {},
          "output_type": "display_data"
        }
      ],
      "source": [
        "# box plot\n",
        "sns.boxplot(data=df[['Dependents','LoanAmount','Loan_Amount_Term','Credit_History']])"
      ]
    },
    {
      "cell_type": "markdown",
      "metadata": {
        "id": "0CcXsAca1ABk"
      },
      "source": [
        "---\n",
        "Conclusions -\n",
        "\n",
        "\n",
        "1.   LoanAmount , Loan_Amount_Term both are numerical columns has outliers present in it so we are going to fill null values with median.\n",
        "\n",
        "\n",
        "---\n",
        "\n",
        "\n",
        "2.   Dependents columns is ▶ The number of dependents could influence loan approval . We are going to fill this column null values with mode.\n",
        "\n",
        "\n",
        "---\n",
        "\n",
        "\n",
        "3. Credit_History this column gives you 0,1 as output. So we are going to fill null values for this column with mode.\n",
        "\n",
        "\n",
        "---\n",
        "\n",
        "\n"
      ]
    },
    {
      "cell_type": "code",
      "execution_count": 23,
      "metadata": {
        "id": "UiRKuA8mx_Ta"
      },
      "outputs": [],
      "source": [
        "# Handling Missing Values\n",
        "df['LoanAmount']=df['LoanAmount'].fillna(df[df['LoanAmount'].notna()]['LoanAmount'].median())\n",
        "df['Loan_Amount_Term']=df['Loan_Amount_Term'].fillna(df[df['Loan_Amount_Term'].notna()]['Loan_Amount_Term'].median())\n",
        "df['Dependents']=df['Dependents'].fillna(df[df['Dependents'].notna()]['Dependents'].mode()[0])\n",
        "df['Credit_History']=df['Credit_History'].fillna(df[df['Credit_History'].notna()]['Credit_History'].mode()[0])"
      ]
    },
    {
      "cell_type": "code",
      "execution_count": 24,
      "metadata": {
        "colab": {
          "base_uri": "https://localhost:8080/"
        },
        "id": "Lu8jTvE65DSY",
        "outputId": "72e37d62-8bec-4125-c6fe-0a119ca413c5"
      },
      "outputs": [
        {
          "data": {
            "text/plain": [
              "Gender               0\n",
              "Married              0\n",
              "Dependents           0\n",
              "Education            0\n",
              "Self_Employed        0\n",
              "ApplicantIncome      0\n",
              "CoapplicantIncome    0\n",
              "LoanAmount           0\n",
              "Loan_Amount_Term     0\n",
              "Credit_History       0\n",
              "Property_Area        0\n",
              "Loan_Status          0\n",
              "dtype: int64"
            ]
          },
          "execution_count": 24,
          "metadata": {},
          "output_type": "execute_result"
        }
      ],
      "source": [
        "df.isnull().sum()"
      ]
    },
    {
      "cell_type": "code",
      "execution_count": 25,
      "metadata": {
        "colab": {
          "base_uri": "https://localhost:8080/"
        },
        "id": "zZgh--KJCPGr",
        "outputId": "1ba16b14-c0d3-481c-d282-a0aa35f4097b"
      },
      "outputs": [
        {
          "name": "stdout",
          "output_type": "stream",
          "text": [
            "Name of Column Gender\n",
            "['Male' 'Female']\n",
            "\n",
            " ------------------------------------------------------------ \n",
            "\n",
            "Name of Column Married\n",
            "['No' 'Yes']\n",
            "\n",
            " ------------------------------------------------------------ \n",
            "\n",
            "Name of Column Education\n",
            "['Graduate' 'Not Graduate']\n",
            "\n",
            " ------------------------------------------------------------ \n",
            "\n",
            "Name of Column Self_Employed\n",
            "['No' 'Yes']\n",
            "\n",
            " ------------------------------------------------------------ \n",
            "\n",
            "Name of Column Property_Area\n",
            "['Urban' 'Rural' 'Semiurban']\n",
            "\n",
            " ------------------------------------------------------------ \n",
            "\n",
            "Name of Column Loan_Status\n",
            "['Y' 'N']\n",
            "\n",
            " ------------------------------------------------------------ \n",
            "\n"
          ]
        }
      ],
      "source": [
        "# Checking typo errors in categorical columns\n",
        "for col in df.columns[df.dtypes=='object']:\n",
        "  print('Name of Column',col)\n",
        "  print(df[col].unique())\n",
        "  print('\\n','-'*60,'\\n')\n"
      ]
    },
    {
      "cell_type": "code",
      "execution_count": 26,
      "metadata": {
        "colab": {
          "base_uri": "https://localhost:8080/"
        },
        "id": "-mIngfiZHxNo",
        "outputId": "ee35c2eb-ed3f-4e6d-b5fc-b2fe8692212a"
      },
      "outputs": [
        {
          "data": {
            "text/plain": [
              "0"
            ]
          },
          "execution_count": 26,
          "metadata": {},
          "output_type": "execute_result"
        }
      ],
      "source": [
        "# Checking Duplicate values\n",
        "df.duplicated().sum()"
      ]
    },
    {
      "cell_type": "code",
      "execution_count": null,
      "metadata": {
        "id": "66RK_FJZZus-"
      },
      "outputs": [],
      "source": []
    },
    {
      "cell_type": "markdown",
      "metadata": {
        "id": "IahHFTPJanJE"
      },
      "source": [
        "# 📊 Data Visualization 📊"
      ]
    },
    {
      "cell_type": "code",
      "execution_count": 27,
      "metadata": {
        "id": "EsnPCjwK_U-m"
      },
      "outputs": [],
      "source": [
        "# Converting Credit History to categorical variable\n",
        "df['Credit_History'] = df['Credit_History'].map({1:'Good',0:'Bad'})"
      ]
    },
    {
      "cell_type": "code",
      "execution_count": 28,
      "metadata": {
        "colab": {
          "base_uri": "https://localhost:8080/",
          "height": 541
        },
        "id": "qBdBwU9_ansl",
        "outputId": "6e6e4125-1e9c-425b-c77b-172e70409568"
      },
      "outputs": [
        {
          "name": "stdout",
          "output_type": "stream",
          "text": [
            "Total no of people applied for loan by Gender\n",
            "Gender\n",
            "Male      487\n",
            "Female    111\n",
            "Name: count, dtype: int64\n"
          ]
        },
        {
          "data": {
            "image/png": "[encoded data removed]",
            "text/plain": [
              "<Figure size 640x480 with 1 Axes>"
            ]
          },
          "metadata": {},
          "output_type": "display_data"
        }
      ],
      "source": [
        "# Count plot for Gender\n",
        "print ('Total no of people applied for loan by Gender')\n",
        "print(df['Gender'].value_counts())\n",
        "\n",
        "plt.title('Count Plot by Gender feature')\n",
        "x=sns.countplot(x=df['Gender'],hue=df['Loan_Status'])\n",
        "for bars in x.containers:\n",
        "  x.bar_label(bars)"
      ]
    },
    {
      "cell_type": "code",
      "execution_count": 29,
      "metadata": {
        "colab": {
          "base_uri": "https://localhost:8080/",
          "height": 541
        },
        "id": "mnQBkzW7a16m",
        "outputId": "56a460ab-8455-467e-cdb1-dd618163f185"
      },
      "outputs": [
        {
          "name": "stdout",
          "output_type": "stream",
          "text": [
            "Total no of people applied for loan by Marital Status\n",
            "Married\n",
            "Yes    388\n",
            "No     210\n",
            "Name: count, dtype: int64\n"
          ]
        },
        {
          "data": {
            "image/png": "[encoded data removed]",
            "text/plain": [
              "<Figure size 640x480 with 1 Axes>"
            ]
          },
          "metadata": {},
          "output_type": "display_data"
        }
      ],
      "source": [
        "# Count plot for Married\n",
        "print ('Total no of people applied for loan by Marital Status')\n",
        "print(df['Married'].value_counts())\n",
        "\n",
        "plt.title('No of People Who got Loan by Married feature')\n",
        "x=sns.countplot(x=df['Married'],hue=df['Loan_Status'])\n",
        "for bars in x.containers:\n",
        "  x.bar_label(bars)"
      ]
    },
    {
      "cell_type": "code",
      "execution_count": 30,
      "metadata": {
        "colab": {
          "base_uri": "https://localhost:8080/",
          "height": 541
        },
        "id": "7hbP1m9afwM9",
        "outputId": "5e73f08a-3f24-400f-edb8-468f16c11325"
      },
      "outputs": [
        {
          "name": "stdout",
          "output_type": "stream",
          "text": [
            "Total no of people applied for loan by Education feature\n",
            "Education\n",
            "Graduate        465\n",
            "Not Graduate    133\n",
            "Name: count, dtype: int64\n"
          ]
        },
        {
          "data": {
            "image/png": "[encoded data removed]",
            "text/plain": [
              "<Figure size 640x480 with 1 Axes>"
            ]
          },
          "metadata": {},
          "output_type": "display_data"
        }
      ],
      "source": [
        "# Count plot for Education\n",
        "print ('Total no of people applied for loan by Education feature')\n",
        "print(df['Education'].value_counts())\n",
        "\n",
        "plt.title('No of People Who got Loan by Education feature')\n",
        "x=sns.countplot(x=df['Education'],hue=df['Loan_Status'])\n",
        "for bars in x.containers:\n",
        "  x.bar_label(bars)"
      ]
    },
    {
      "cell_type": "code",
      "execution_count": 31,
      "metadata": {
        "colab": {
          "base_uri": "https://localhost:8080/",
          "height": 541
        },
        "id": "KDARy2QHgA6l",
        "outputId": "c735fb74-0519-4d51-cc08-9b099db2176c"
      },
      "outputs": [
        {
          "name": "stdout",
          "output_type": "stream",
          "text": [
            "Total no of people applied for loan by Credit_History feature\n",
            "Credit_History\n",
            "Good    512\n",
            "Bad      86\n",
            "Name: count, dtype: int64\n"
          ]
        },
        {
          "data": {
            "image/png": "[encoded data removed]",
            "text/plain": [
              "<Figure size 640x480 with 1 Axes>"
            ]
          },
          "metadata": {},
          "output_type": "display_data"
        }
      ],
      "source": [
        "# Count plot for Credit_History\n",
        "print ('Total no of people applied for loan by Credit_History feature')\n",
        "print(df['Credit_History'].value_counts())\n",
        "\n",
        "plt.title('No of People Who got Loan by Credit_History feature')\n",
        "x=sns.countplot(x=df['Credit_History'],hue=df['Loan_Status'])\n",
        "for bars in x.containers:\n",
        "  x.bar_label(bars)"
      ]
    },
    {
      "cell_type": "code",
      "execution_count": 32,
      "metadata": {
        "colab": {
          "base_uri": "https://localhost:8080/",
          "height": 472
        },
        "id": "Rz6hNm8B6zx9",
        "outputId": "ef6370e8-c1ae-47ff-f55f-b1f52bb6bb83"
      },
      "outputs": [
        {
          "data": {
            "image/png": "[encoded data removed]",
            "text/plain": [
              "<Figure size 640x480 with 1 Axes>"
            ]
          },
          "metadata": {},
          "output_type": "display_data"
        }
      ],
      "source": [
        "# Count plot for Property_Area\n",
        "\n",
        "plt.title('No of People Who got Loan by Property_Area feature')\n",
        "x=sns.countplot(x=df['Property_Area'],color='lightgreen')\n",
        "for bars in x.containers:\n",
        "  x.bar_label(bars)"
      ]
    },
    {
      "cell_type": "markdown",
      "metadata": {
        "id": "LHoq3m7z5Qpl"
      },
      "source": [
        "# Insights Gain till now :\n",
        "---\n",
        "\n",
        "\n",
        "*   No of approval of loan for Male people are more as Compare to Female.\n",
        "*   No of approval of loan for Married people are more as Compare to Unmarried.\n",
        "*   No of approval of loan for Graduate people are more as Compare to Not Graduate People.\n",
        "*   No of approval of loan for People has Good Credit_History are more as Compare to People who have Bad Credit_History.\n",
        "* No of People applying for loan are mostly belonging to Semi Urban Area.\n",
        "\n",
        "\n",
        "\n"
      ]
    },
    {
      "cell_type": "code",
      "execution_count": 33,
      "metadata": {
        "colab": {
          "base_uri": "https://localhost:8080/",
          "height": 574
        },
        "id": "T7rpmNuFCpQt",
        "outputId": "fb799646-7d03-49c5-c232-342fbe8040ba"
      },
      "outputs": [
        {
          "ename": "ValueError",
          "evalue": "could not convert string to float: 'Male'",
          "output_type": "error",
          "traceback": [
            "\u001b[1;31m---------------------------------------------------------------------------\u001b[0m",
            "\u001b[1;31mValueError\u001b[0m                                Traceback (most recent call last)",
            "Cell \u001b[1;32mIn[33], line 1\u001b[0m\n\u001b[1;32m----> 1\u001b[0m sns\u001b[38;5;241m.\u001b[39mheatmap(\u001b[43mdf\u001b[49m\u001b[38;5;241;43m.\u001b[39;49m\u001b[43mcorr\u001b[49m\u001b[43m(\u001b[49m\u001b[43m)\u001b[49m,annot\u001b[38;5;241m=\u001b[39m\u001b[38;5;28;01mTrue\u001b[39;00m,cmap\u001b[38;5;241m=\u001b[39m\u001b[38;5;124m'\u001b[39m\u001b[38;5;124mBlues\u001b[39m\u001b[38;5;124m'\u001b[39m)\n",
            "File \u001b[1;32me:\\loanapprovalprediction\\venv\\lib\\site-packages\\pandas\\core\\frame.py:10054\u001b[0m, in \u001b[0;36mDataFrame.corr\u001b[1;34m(self, method, min_periods, numeric_only)\u001b[0m\n\u001b[0;32m  10052\u001b[0m cols \u001b[38;5;241m=\u001b[39m data\u001b[38;5;241m.\u001b[39mcolumns\n\u001b[0;32m  10053\u001b[0m idx \u001b[38;5;241m=\u001b[39m cols\u001b[38;5;241m.\u001b[39mcopy()\n\u001b[1;32m> 10054\u001b[0m mat \u001b[38;5;241m=\u001b[39m \u001b[43mdata\u001b[49m\u001b[38;5;241;43m.\u001b[39;49m\u001b[43mto_numpy\u001b[49m\u001b[43m(\u001b[49m\u001b[43mdtype\u001b[49m\u001b[38;5;241;43m=\u001b[39;49m\u001b[38;5;28;43mfloat\u001b[39;49m\u001b[43m,\u001b[49m\u001b[43m \u001b[49m\u001b[43mna_value\u001b[49m\u001b[38;5;241;43m=\u001b[39;49m\u001b[43mnp\u001b[49m\u001b[38;5;241;43m.\u001b[39;49m\u001b[43mnan\u001b[49m\u001b[43m,\u001b[49m\u001b[43m \u001b[49m\u001b[43mcopy\u001b[49m\u001b[38;5;241;43m=\u001b[39;49m\u001b[38;5;28;43;01mFalse\u001b[39;49;00m\u001b[43m)\u001b[49m\n\u001b[0;32m  10056\u001b[0m \u001b[38;5;28;01mif\u001b[39;00m method \u001b[38;5;241m==\u001b[39m \u001b[38;5;124m\"\u001b[39m\u001b[38;5;124mpearson\u001b[39m\u001b[38;5;124m\"\u001b[39m:\n\u001b[0;32m  10057\u001b[0m     correl \u001b[38;5;241m=\u001b[39m libalgos\u001b[38;5;241m.\u001b[39mnancorr(mat, minp\u001b[38;5;241m=\u001b[39mmin_periods)\n",
            "File \u001b[1;32me:\\loanapprovalprediction\\venv\\lib\\site-packages\\pandas\\core\\frame.py:1838\u001b[0m, in \u001b[0;36mDataFrame.to_numpy\u001b[1;34m(self, dtype, copy, na_value)\u001b[0m\n\u001b[0;32m   1836\u001b[0m \u001b[38;5;28;01mif\u001b[39;00m dtype \u001b[38;5;129;01mis\u001b[39;00m \u001b[38;5;129;01mnot\u001b[39;00m \u001b[38;5;28;01mNone\u001b[39;00m:\n\u001b[0;32m   1837\u001b[0m     dtype \u001b[38;5;241m=\u001b[39m np\u001b[38;5;241m.\u001b[39mdtype(dtype)\n\u001b[1;32m-> 1838\u001b[0m result \u001b[38;5;241m=\u001b[39m \u001b[38;5;28;43mself\u001b[39;49m\u001b[38;5;241;43m.\u001b[39;49m\u001b[43m_mgr\u001b[49m\u001b[38;5;241;43m.\u001b[39;49m\u001b[43mas_array\u001b[49m\u001b[43m(\u001b[49m\u001b[43mdtype\u001b[49m\u001b[38;5;241;43m=\u001b[39;49m\u001b[43mdtype\u001b[49m\u001b[43m,\u001b[49m\u001b[43m \u001b[49m\u001b[43mcopy\u001b[49m\u001b[38;5;241;43m=\u001b[39;49m\u001b[43mcopy\u001b[49m\u001b[43m,\u001b[49m\u001b[43m \u001b[49m\u001b[43mna_value\u001b[49m\u001b[38;5;241;43m=\u001b[39;49m\u001b[43mna_value\u001b[49m\u001b[43m)\u001b[49m\n\u001b[0;32m   1839\u001b[0m \u001b[38;5;28;01mif\u001b[39;00m result\u001b[38;5;241m.\u001b[39mdtype \u001b[38;5;129;01mis\u001b[39;00m \u001b[38;5;129;01mnot\u001b[39;00m dtype:\n\u001b[0;32m   1840\u001b[0m     result \u001b[38;5;241m=\u001b[39m np\u001b[38;5;241m.\u001b[39marray(result, dtype\u001b[38;5;241m=\u001b[39mdtype, copy\u001b[38;5;241m=\u001b[39m\u001b[38;5;28;01mFalse\u001b[39;00m)\n",
            "File \u001b[1;32me:\\loanapprovalprediction\\venv\\lib\\site-packages\\pandas\\core\\internals\\managers.py:1732\u001b[0m, in \u001b[0;36mBlockManager.as_array\u001b[1;34m(self, dtype, copy, na_value)\u001b[0m\n\u001b[0;32m   1730\u001b[0m         arr\u001b[38;5;241m.\u001b[39mflags\u001b[38;5;241m.\u001b[39mwriteable \u001b[38;5;241m=\u001b[39m \u001b[38;5;28;01mFalse\u001b[39;00m\n\u001b[0;32m   1731\u001b[0m \u001b[38;5;28;01melse\u001b[39;00m:\n\u001b[1;32m-> 1732\u001b[0m     arr \u001b[38;5;241m=\u001b[39m \u001b[38;5;28;43mself\u001b[39;49m\u001b[38;5;241;43m.\u001b[39;49m\u001b[43m_interleave\u001b[49m\u001b[43m(\u001b[49m\u001b[43mdtype\u001b[49m\u001b[38;5;241;43m=\u001b[39;49m\u001b[43mdtype\u001b[49m\u001b[43m,\u001b[49m\u001b[43m \u001b[49m\u001b[43mna_value\u001b[49m\u001b[38;5;241;43m=\u001b[39;49m\u001b[43mna_value\u001b[49m\u001b[43m)\u001b[49m\n\u001b[0;32m   1733\u001b[0m     \u001b[38;5;66;03m# The underlying data was copied within _interleave, so no need\u001b[39;00m\n\u001b[0;32m   1734\u001b[0m     \u001b[38;5;66;03m# to further copy if copy=True or setting na_value\u001b[39;00m\n\u001b[0;32m   1736\u001b[0m \u001b[38;5;28;01mif\u001b[39;00m na_value \u001b[38;5;129;01mis\u001b[39;00m \u001b[38;5;129;01mnot\u001b[39;00m lib\u001b[38;5;241m.\u001b[39mno_default:\n",
            "File \u001b[1;32me:\\loanapprovalprediction\\venv\\lib\\site-packages\\pandas\\core\\internals\\managers.py:1794\u001b[0m, in \u001b[0;36mBlockManager._interleave\u001b[1;34m(self, dtype, na_value)\u001b[0m\n\u001b[0;32m   1792\u001b[0m     \u001b[38;5;28;01melse\u001b[39;00m:\n\u001b[0;32m   1793\u001b[0m         arr \u001b[38;5;241m=\u001b[39m blk\u001b[38;5;241m.\u001b[39mget_values(dtype)\n\u001b[1;32m-> 1794\u001b[0m     \u001b[43mresult\u001b[49m\u001b[43m[\u001b[49m\u001b[43mrl\u001b[49m\u001b[38;5;241;43m.\u001b[39;49m\u001b[43mindexer\u001b[49m\u001b[43m]\u001b[49m \u001b[38;5;241m=\u001b[39m arr\n\u001b[0;32m   1795\u001b[0m     itemmask[rl\u001b[38;5;241m.\u001b[39mindexer] \u001b[38;5;241m=\u001b[39m \u001b[38;5;241m1\u001b[39m\n\u001b[0;32m   1797\u001b[0m \u001b[38;5;28;01mif\u001b[39;00m \u001b[38;5;129;01mnot\u001b[39;00m itemmask\u001b[38;5;241m.\u001b[39mall():\n",
            "\u001b[1;31mValueError\u001b[0m: could not convert string to float: 'Male'"
          ]
        }
      ],
      "source": [
        "sns.heatmap(df.corr(),annot=True,cmap='Blues')"
      ]
    },
    {
      "cell_type": "markdown",
      "metadata": {
        "id": "hwvVW7awEw30"
      },
      "source": [
        "**We can see that Applicant Income and Loan Amount are highly Correlated**"
      ]
    },
    {
      "cell_type": "code",
      "execution_count": 35,
      "metadata": {
        "colab": {
          "base_uri": "https://localhost:8080/",
          "height": 472
        },
        "id": "jWwl3XCEEon-",
        "outputId": "e8b4785f-33f2-479a-e994-1dae51dcd6c3"
      },
      "outputs": [
        {
          "data": {
            "image/png": "[encoded data removed]",
            "text/plain": [
              "<Figure size 640x480 with 1 Axes>"
            ]
          },
          "metadata": {},
          "output_type": "display_data"
        }
      ],
      "source": [
        "## Create Scatterplot\n",
        "scatterplot = sns.scatterplot(data=df, x=\"ApplicantIncome\", y=\"LoanAmount\", hue=\"Loan_Status\")\n",
        "\n",
        "## title and labels\n",
        "plt.title(\"Applicant Income vs. Loan Amount\", weight=\"bold\")\n",
        "plt.xlabel(\"Applicant Income\")\n",
        "plt.ylabel(\"Loan Amount\")\n",
        "\n",
        "## legend settings\n",
        "scatterplot.legend(title=\"Loan Status\")\n",
        "legend_labels = [\"Approved\", \"Not Approved\"]  # Custom legend labels\n",
        "for t, l in zip(scatterplot.get_legend().texts, legend_labels):\n",
        "    t.set_text(l)\n",
        "\n",
        "## show the plot\n",
        "plt.show()"
      ]
    },
    {
      "cell_type": "markdown",
      "metadata": {
        "id": "-VA_La5JNemN"
      },
      "source": [
        "# ⚙️ Data Preprocessing ⚙️"
      ]
    },
    {
      "cell_type": "markdown",
      "metadata": {
        "id": "PcZwwIJ7N5Gv"
      },
      "source": [
        "\n",
        "\n",
        "---\n",
        "\n",
        "\n",
        "**Splitting the data**\n",
        "\n",
        "\n",
        "---\n",
        "\n"
      ]
    },
    {
      "cell_type": "code",
      "execution_count": 36,
      "metadata": {
        "id": "vsAfyVm6OKHr"
      },
      "outputs": [],
      "source": [
        "X=df.iloc[:,:-1]\n",
        "y=df.iloc[:,-1]"
      ]
    },
    {
      "cell_type": "code",
      "execution_count": 37,
      "metadata": {
        "id": "2w8jZVHdRJdp"
      },
      "outputs": [],
      "source": [
        "cat_columns=X.columns[X.dtypes=='object']\n",
        "num_columns=X.columns[X.dtypes!='object']"
      ]
    },
    {
      "cell_type": "code",
      "execution_count": 38,
      "metadata": {
        "id": "LrvLOSnwEsP-"
      },
      "outputs": [],
      "source": [
        "X_train,X_test,y_train,y_test=train_test_split(X,y,test_size=0.2,random_state=69)"
      ]
    },
    {
      "cell_type": "code",
      "execution_count": 39,
      "metadata": {
        "colab": {
          "base_uri": "https://localhost:8080/"
        },
        "id": "7xJP5NypOs4p",
        "outputId": "fc23b9a3-3005-401f-f49c-0c61ada3aa12"
      },
      "outputs": [
        {
          "data": {
            "text/plain": [
              "((478, 11), (478,), (120, 11), (120,))"
            ]
          },
          "execution_count": 39,
          "metadata": {},
          "output_type": "execute_result"
        }
      ],
      "source": [
        "X_train.shape,y_train.shape,X_test.shape,y_test.shape"
      ]
    },
    {
      "cell_type": "markdown",
      "metadata": {
        "id": "_JsAljdnPnhN"
      },
      "source": [
        "---\n",
        "**Pipline and Column Transformer**\n",
        "\n",
        "---\n",
        "\n"
      ]
    },
    {
      "cell_type": "code",
      "execution_count": 40,
      "metadata": {
        "id": "hpx_CnMLO1M_"
      },
      "outputs": [],
      "source": [
        "## feature Engineering Automation\n",
        "## Numerical Pipelines\n",
        "num_pipeline=Pipeline(\n",
        "    steps=[\n",
        "        ('scaler',StandardScaler()) ],verbose=3\n",
        "\n",
        ")\n",
        "\n",
        "#categorical Pipeline\n",
        "cat_pipeline=Pipeline(\n",
        "                steps=[\n",
        "                ('onehotencoder',OneHotEncoder()) ## Categorical features to numerical\n",
        "                ],verbose=3\n",
        "\n",
        "            )\n"
      ]
    },
    {
      "cell_type": "code",
      "execution_count": 41,
      "metadata": {
        "colab": {
          "base_uri": "https://localhost:8080/",
          "height": 118
        },
        "id": "KYKm4EAVQLch",
        "outputId": "68b222e5-8829-421b-fc45-4a8e2ec501a9"
      },
      "outputs": [
        {
          "data": {
            "text/html": [
              "<style>#sk-container-id-1 {color: black;}#sk-container-id-1 pre{padding: 0;}#sk-container-id-1 div.sk-toggleable {background-color: white;}#sk-container-id-1 label.sk-toggleable__label {cursor: pointer;display: block;width: 100%;margin-bottom: 0;padding: 0.3em;box-sizing: border-box;text-align: center;}#sk-container-id-1 label.sk-toggleable__label-arrow:before {content: \"▸\";float: left;margin-right: 0.25em;color: #696969;}#sk-container-id-1 label.sk-toggleable__label-arrow:hover:before {color: black;}#sk-container-id-1 div.sk-estimator:hover label.sk-toggleable__label-arrow:before {color: black;}#sk-container-id-1 div.sk-toggleable__content {max-height: 0;max-width: 0;overflow: hidden;text-align: left;background-color: #f0f8ff;}#sk-container-id-1 div.sk-toggleable__content pre {margin: 0.2em;color: black;border-radius: 0.25em;background-color: #f0f8ff;}#sk-container-id-1 input.sk-toggleable__control:checked~div.sk-toggleable__content {max-height: 200px;max-width: 100%;overflow: auto;}#sk-container-id-1 input.sk-toggleable__control:checked~label.sk-toggleable__label-arrow:before {content: \"▾\";}#sk-container-id-1 div.sk-estimator input.sk-toggleable__control:checked~label.sk-toggleable__label {background-color: #d4ebff;}#sk-container-id-1 div.sk-label input.sk-toggleable__control:checked~label.sk-toggleable__label {background-color: #d4ebff;}#sk-container-id-1 input.sk-hidden--visually {border: 0;clip: rect(1px 1px 1px 1px);clip: rect(1px, 1px, 1px, 1px);height: 1px;margin: -1px;overflow: hidden;padding: 0;position: absolute;width: 1px;}#sk-container-id-1 div.sk-estimator {font-family: monospace;background-color: #f0f8ff;border: 1px dotted black;border-radius: 0.25em;box-sizing: border-box;margin-bottom: 0.5em;}#sk-container-id-1 div.sk-estimator:hover {background-color: #d4ebff;}#sk-container-id-1 div.sk-parallel-item::after {content: \"\";width: 100%;border-bottom: 1px solid gray;flex-grow: 1;}#sk-container-id-1 div.sk-label:hover label.sk-toggleable__label {background-color: #d4ebff;}#sk-container-id-1 div.sk-serial::before {content: \"\";position: absolute;border-left: 1px solid gray;box-sizing: border-box;top: 0;bottom: 0;left: 50%;z-index: 0;}#sk-container-id-1 div.sk-serial {display: flex;flex-direction: column;align-items: center;background-color: white;padding-right: 0.2em;padding-left: 0.2em;position: relative;}#sk-container-id-1 div.sk-item {position: relative;z-index: 1;}#sk-container-id-1 div.sk-parallel {display: flex;align-items: stretch;justify-content: center;background-color: white;position: relative;}#sk-container-id-1 div.sk-item::before, #sk-container-id-1 div.sk-parallel-item::before {content: \"\";position: absolute;border-left: 1px solid gray;box-sizing: border-box;top: 0;bottom: 0;left: 50%;z-index: -1;}#sk-container-id-1 div.sk-parallel-item {display: flex;flex-direction: column;z-index: 1;position: relative;background-color: white;}#sk-container-id-1 div.sk-parallel-item:first-child::after {align-self: flex-end;width: 50%;}#sk-container-id-1 div.sk-parallel-item:last-child::after {align-self: flex-start;width: 50%;}#sk-container-id-1 div.sk-parallel-item:only-child::after {width: 0;}#sk-container-id-1 div.sk-dashed-wrapped {border: 1px dashed gray;margin: 0 0.4em 0.5em 0.4em;box-sizing: border-box;padding-bottom: 0.4em;background-color: white;}#sk-container-id-1 div.sk-label label {font-family: monospace;font-weight: bold;display: inline-block;line-height: 1.2em;}#sk-container-id-1 div.sk-label-container {text-align: center;}#sk-container-id-1 div.sk-container {/* jupyter's `normalize.less` sets `[hidden] { display: none; }` but bootstrap.min.css set `[hidden] { display: none !important; }` so we also need the `!important` here to be able to override the default hidden behavior on the sphinx rendered scikit-learn.org. See: https://github.com/scikit-learn/scikit-learn/issues/21755 */display: inline-block !important;position: relative;}#sk-container-id-1 div.sk-text-repr-fallback {display: none;}</style><div id=\"sk-container-id-1\" class=\"sk-top-container\"><div class=\"sk-text-repr-fallback\"><pre>ColumnTransformer(transformers=[(&#x27;num_pipeline&#x27;,\n",
              "                                 Pipeline(steps=[(&#x27;scaler&#x27;, StandardScaler())],\n",
              "                                          verbose=3),\n",
              "                                 Index([&#x27;Dependents&#x27;, &#x27;ApplicantIncome&#x27;, &#x27;CoapplicantIncome&#x27;, &#x27;LoanAmount&#x27;,\n",
              "       &#x27;Loan_Amount_Term&#x27;],\n",
              "      dtype=&#x27;object&#x27;)),\n",
              "                                (&#x27;cat_pipeline&#x27;,\n",
              "                                 Pipeline(steps=[(&#x27;onehotencoder&#x27;,\n",
              "                                                  OneHotEncoder())],\n",
              "                                          verbose=3),\n",
              "                                 Index([&#x27;Gender&#x27;, &#x27;Married&#x27;, &#x27;Education&#x27;, &#x27;Self_Employed&#x27;, &#x27;Credit_History&#x27;,\n",
              "       &#x27;Property_Area&#x27;],\n",
              "      dtype=&#x27;object&#x27;))])</pre><b>In a Jupyter environment, please rerun this cell to show the HTML representation or trust the notebook. <br />On GitHub, the HTML representation is unable to render, please try loading this page with nbviewer.org.</b></div><div class=\"sk-container\" hidden><div class=\"sk-item sk-dashed-wrapped\"><div class=\"sk-label-container\"><div class=\"sk-label sk-toggleable\"><input class=\"sk-toggleable__control sk-hidden--visually\" id=\"sk-estimator-id-1\" type=\"checkbox\" ><label for=\"sk-estimator-id-1\" class=\"sk-toggleable__label sk-toggleable__label-arrow\">ColumnTransformer</label><div class=\"sk-toggleable__content\"><pre>ColumnTransformer(transformers=[(&#x27;num_pipeline&#x27;,\n",
              "                                 Pipeline(steps=[(&#x27;scaler&#x27;, StandardScaler())],\n",
              "                                          verbose=3),\n",
              "                                 Index([&#x27;Dependents&#x27;, &#x27;ApplicantIncome&#x27;, &#x27;CoapplicantIncome&#x27;, &#x27;LoanAmount&#x27;,\n",
              "       &#x27;Loan_Amount_Term&#x27;],\n",
              "      dtype=&#x27;object&#x27;)),\n",
              "                                (&#x27;cat_pipeline&#x27;,\n",
              "                                 Pipeline(steps=[(&#x27;onehotencoder&#x27;,\n",
              "                                                  OneHotEncoder())],\n",
              "                                          verbose=3),\n",
              "                                 Index([&#x27;Gender&#x27;, &#x27;Married&#x27;, &#x27;Education&#x27;, &#x27;Self_Employed&#x27;, &#x27;Credit_History&#x27;,\n",
              "       &#x27;Property_Area&#x27;],\n",
              "      dtype=&#x27;object&#x27;))])</pre></div></div></div><div class=\"sk-parallel\"><div class=\"sk-parallel-item\"><div class=\"sk-item\"><div class=\"sk-label-container\"><div class=\"sk-label sk-toggleable\"><input class=\"sk-toggleable__control sk-hidden--visually\" id=\"sk-estimator-id-2\" type=\"checkbox\" ><label for=\"sk-estimator-id-2\" class=\"sk-toggleable__label sk-toggleable__label-arrow\">num_pipeline</label><div class=\"sk-toggleable__content\"><pre>Index([&#x27;Dependents&#x27;, &#x27;ApplicantIncome&#x27;, &#x27;CoapplicantIncome&#x27;, &#x27;LoanAmount&#x27;,\n",
              "       &#x27;Loan_Amount_Term&#x27;],\n",
              "      dtype=&#x27;object&#x27;)</pre></div></div></div><div class=\"sk-serial\"><div class=\"sk-item\"><div class=\"sk-serial\"><div class=\"sk-item\"><div class=\"sk-estimator sk-toggleable\"><input class=\"sk-toggleable__control sk-hidden--visually\" id=\"sk-estimator-id-3\" type=\"checkbox\" ><label for=\"sk-estimator-id-3\" class=\"sk-toggleable__label sk-toggleable__label-arrow\">StandardScaler</label><div class=\"sk-toggleable__content\"><pre>StandardScaler()</pre></div></div></div></div></div></div></div></div><div class=\"sk-parallel-item\"><div class=\"sk-item\"><div class=\"sk-label-container\"><div class=\"sk-label sk-toggleable\"><input class=\"sk-toggleable__control sk-hidden--visually\" id=\"sk-estimator-id-4\" type=\"checkbox\" ><label for=\"sk-estimator-id-4\" class=\"sk-toggleable__label sk-toggleable__label-arrow\">cat_pipeline</label><div class=\"sk-toggleable__content\"><pre>Index([&#x27;Gender&#x27;, &#x27;Married&#x27;, &#x27;Education&#x27;, &#x27;Self_Employed&#x27;, &#x27;Credit_History&#x27;,\n",
              "       &#x27;Property_Area&#x27;],\n",
              "      dtype=&#x27;object&#x27;)</pre></div></div></div><div class=\"sk-serial\"><div class=\"sk-item\"><div class=\"sk-serial\"><div class=\"sk-item\"><div class=\"sk-estimator sk-toggleable\"><input class=\"sk-toggleable__control sk-hidden--visually\" id=\"sk-estimator-id-5\" type=\"checkbox\" ><label for=\"sk-estimator-id-5\" class=\"sk-toggleable__label sk-toggleable__label-arrow\">OneHotEncoder</label><div class=\"sk-toggleable__content\"><pre>OneHotEncoder()</pre></div></div></div></div></div></div></div></div></div></div></div></div>"
            ],
            "text/plain": [
              "ColumnTransformer(transformers=[('num_pipeline',\n",
              "                                 Pipeline(steps=[('scaler', StandardScaler())],\n",
              "                                          verbose=3),\n",
              "                                 Index(['Dependents', 'ApplicantIncome', 'CoapplicantIncome', 'LoanAmount',\n",
              "       'Loan_Amount_Term'],\n",
              "      dtype='object')),\n",
              "                                ('cat_pipeline',\n",
              "                                 Pipeline(steps=[('onehotencoder',\n",
              "                                                  OneHotEncoder())],\n",
              "                                          verbose=3),\n",
              "                                 Index(['Gender', 'Married', 'Education', 'Self_Employed', 'Credit_History',\n",
              "       'Property_Area'],\n",
              "      dtype='object'))])"
            ]
          },
          "execution_count": 41,
          "metadata": {},
          "output_type": "execute_result"
        }
      ],
      "source": [
        "preprocessor=ColumnTransformer([\n",
        "    ('num_pipeline',num_pipeline,num_columns),\n",
        "    ('cat_pipeline',cat_pipeline,cat_columns)\n",
        "\n",
        "])\n",
        "\n",
        "preprocessor"
      ]
    },
    {
      "cell_type": "code",
      "execution_count": 42,
      "metadata": {
        "colab": {
          "base_uri": "https://localhost:8080/"
        },
        "id": "JyeAEHPBQSy8",
        "outputId": "8980e230-7b9c-4883-e965-cd4284b60092"
      },
      "outputs": [
        {
          "name": "stdout",
          "output_type": "stream",
          "text": [
            "[Pipeline] ............ (step 1 of 1) Processing scaler, total=   0.0s\n",
            "[Pipeline] ..... (step 1 of 1) Processing onehotencoder, total=   0.0s\n"
          ]
        }
      ],
      "source": [
        "X_train=preprocessor.fit_transform(X_train)\n",
        "X_test=preprocessor.transform(X_test)"
      ]
    },
    {
      "cell_type": "code",
      "execution_count": 43,
      "metadata": {
        "colab": {
          "base_uri": "https://localhost:8080/"
        },
        "id": "7upofPN4TfNt",
        "outputId": "4dfcea62-5e27-414a-c502-2c7fea11002f"
      },
      "outputs": [
        {
          "data": {
            "text/plain": [
              "array([[ 2.99542173e-01, -5.49659190e-01, -5.36430103e-01, ...,\n",
              "         0.00000000e+00,  1.00000000e+00,  0.00000000e+00],\n",
              "       [ 1.32226473e+00, -2.01921378e-01, -2.10384017e-01, ...,\n",
              "         0.00000000e+00,  0.00000000e+00,  1.00000000e+00],\n",
              "       [-7.23180388e-01, -2.76558713e-01, -5.36430103e-01, ...,\n",
              "         1.00000000e+00,  0.00000000e+00,  0.00000000e+00],\n",
              "       ...,\n",
              "       [ 1.32226473e+00, -3.70187736e-01, -3.35097084e-04, ...,\n",
              "         1.00000000e+00,  0.00000000e+00,  0.00000000e+00],\n",
              "       [-7.23180388e-01, -5.33706171e-01, -5.36430103e-01, ...,\n",
              "         0.00000000e+00,  0.00000000e+00,  1.00000000e+00],\n",
              "       [ 1.32226473e+00, -4.90215205e-01, -1.70568774e-01, ...,\n",
              "         0.00000000e+00,  1.00000000e+00,  0.00000000e+00]])"
            ]
          },
          "execution_count": 43,
          "metadata": {},
          "output_type": "execute_result"
        }
      ],
      "source": [
        "X_train"
      ]
    },
    {
      "cell_type": "code",
      "execution_count": 44,
      "metadata": {
        "colab": {
          "base_uri": "https://localhost:8080/"
        },
        "id": "dQVJv34yEIjq",
        "outputId": "0020f898-98b3-4758-92d7-613044753f97"
      },
      "outputs": [
        {
          "data": {
            "text/plain": [
              "array([[-7.23180388e-01, -2.54718271e-01,  6.87553750e-03, ...,\n",
              "         1.00000000e+00,  0.00000000e+00,  0.00000000e+00],\n",
              "       [ 2.34498729e+00,  1.43787574e+01, -5.36430103e-01, ...,\n",
              "         1.00000000e+00,  0.00000000e+00,  0.00000000e+00],\n",
              "       [ 1.32226473e+00, -3.82912167e-01,  3.41505466e-02, ...,\n",
              "         0.00000000e+00,  0.00000000e+00,  1.00000000e+00],\n",
              "       ...,\n",
              "       [ 2.99542173e-01,  1.51416757e+00, -5.36430103e-01, ...,\n",
              "         0.00000000e+00,  0.00000000e+00,  1.00000000e+00],\n",
              "       [-7.23180388e-01, -1.87677611e-01, -5.36430103e-01, ...,\n",
              "         0.00000000e+00,  0.00000000e+00,  1.00000000e+00],\n",
              "       [ 1.32226473e+00,  9.32094578e-02, -5.36430103e-01, ...,\n",
              "         0.00000000e+00,  0.00000000e+00,  1.00000000e+00]])"
            ]
          },
          "execution_count": 44,
          "metadata": {},
          "output_type": "execute_result"
        }
      ],
      "source": [
        "X_test"
      ]
    },
    {
      "cell_type": "code",
      "execution_count": 45,
      "metadata": {
        "id": "bLTRi6ZtjEZE"
      },
      "outputs": [],
      "source": [
        "from imblearn.over_sampling import SMOTE\n",
        "smote=SMOTE(random_state=69)\n",
        "X_train_resampled,y_train_resampled=smote.fit_resample(X_train,y_train)"
      ]
    },
    {
      "cell_type": "code",
      "execution_count": 46,
      "metadata": {
        "id": "F1tZz0V6Efew"
      },
      "outputs": [],
      "source": [
        "def evaluate_model(X_train,X_test,y_train,y_test,models):\n",
        "  score={}\n",
        "  for i in range(len(models)):\n",
        "    clf=list(models.values())[i]\n",
        "    clf.fit(X_train,y_train)\n",
        "    pred=clf.predict(X_test)\n",
        "    print(list(models.keys())[i])\n",
        "    print(confusion_matrix(y_test,pred))\n",
        "    print(classification_report(y_test,pred))\n",
        "    print(accuracy_score(y_test,pred))\n",
        "    score[list(models.keys())[i]]=accuracy_score(y_test,pred)\n",
        "    print(\"-\"*40)\n",
        "    print(\"\\n\")\n",
        "\n",
        "  return score"
      ]
    },
    {
      "cell_type": "code",
      "execution_count": 47,
      "metadata": {
        "id": "_UGZfeydTIPl"
      },
      "outputs": [],
      "source": [
        "models={\n",
        "    \"Logistic Regression\":LogisticRegression(),\n",
        "    \"Decision Tree Classifier\":DecisionTreeClassifier(),\n",
        "    \"Random Forest Classifier\": RandomForestClassifier()\n",
        "}"
      ]
    },
    {
      "cell_type": "code",
      "execution_count": 48,
      "metadata": {
        "colab": {
          "base_uri": "https://localhost:8080/"
        },
        "id": "_63OL5WgkCIL",
        "outputId": "51eda257-8112-4646-f46f-05ce7a6821a5"
      },
      "outputs": [
        {
          "data": {
            "text/plain": [
              "((656, 18), (656,))"
            ]
          },
          "execution_count": 48,
          "metadata": {},
          "output_type": "execute_result"
        }
      ],
      "source": [
        "X_train_resampled.shape,y_train_resampled.shape"
      ]
    },
    {
      "cell_type": "code",
      "execution_count": 49,
      "metadata": {
        "colab": {
          "base_uri": "https://localhost:8080/"
        },
        "id": "0ylx_g3nTN2-",
        "outputId": "f632c116-58f0-4819-e0d0-aad0019879c2"
      },
      "outputs": [
        {
          "name": "stdout",
          "output_type": "stream",
          "text": [
            "Logistic Regression\n",
            "[[23 14]\n",
            " [11 72]]\n",
            "              precision    recall  f1-score   support\n",
            "\n",
            "           N       0.68      0.62      0.65        37\n",
            "           Y       0.84      0.87      0.85        83\n",
            "\n",
            "    accuracy                           0.79       120\n",
            "   macro avg       0.76      0.74      0.75       120\n",
            "weighted avg       0.79      0.79      0.79       120\n",
            "\n",
            "0.7916666666666666\n",
            "----------------------------------------\n",
            "\n",
            "\n",
            "Decision Tree Classifier\n",
            "[[26 11]\n",
            " [20 63]]\n",
            "              precision    recall  f1-score   support\n",
            "\n",
            "           N       0.57      0.70      0.63        37\n",
            "           Y       0.85      0.76      0.80        83\n",
            "\n",
            "    accuracy                           0.74       120\n",
            "   macro avg       0.71      0.73      0.71       120\n",
            "weighted avg       0.76      0.74      0.75       120\n",
            "\n",
            "0.7416666666666667\n",
            "----------------------------------------\n",
            "\n",
            "\n",
            "Random Forest Classifier\n",
            "[[21 16]\n",
            " [ 4 79]]\n",
            "              precision    recall  f1-score   support\n",
            "\n",
            "           N       0.84      0.57      0.68        37\n",
            "           Y       0.83      0.95      0.89        83\n",
            "\n",
            "    accuracy                           0.83       120\n",
            "   macro avg       0.84      0.76      0.78       120\n",
            "weighted avg       0.83      0.83      0.82       120\n",
            "\n",
            "0.8333333333333334\n",
            "----------------------------------------\n",
            "\n",
            "\n"
          ]
        },
        {
          "data": {
            "text/plain": [
              "{'Logistic Regression': 0.7916666666666666,\n",
              " 'Decision Tree Classifier': 0.7416666666666667,\n",
              " 'Random Forest Classifier': 0.8333333333333334}"
            ]
          },
          "execution_count": 49,
          "metadata": {},
          "output_type": "execute_result"
        }
      ],
      "source": [
        "evaluate_model(X_train_resampled,X_test,y_train_resampled,y_test,models)"
      ]
    },
    {
      "cell_type": "code",
      "execution_count": 50,
      "metadata": {
        "colab": {
          "base_uri": "https://localhost:8080/"
        },
        "id": "2An7-3IuTV1M",
        "outputId": "c437e71e-32d6-47e3-deac-f9d19404f0d4"
      },
      "outputs": [
        {
          "data": {
            "text/plain": [
              "Loan_Status\n",
              "Y    411\n",
              "N    187\n",
              "Name: count, dtype: int64"
            ]
          },
          "execution_count": 50,
          "metadata": {},
          "output_type": "execute_result"
        }
      ],
      "source": [
        "df['Loan_Status'].value_counts()"
      ]
    },
    {
      "cell_type": "code",
      "execution_count": 51,
      "metadata": {
        "id": "fkZqNsaLkTv1"
      },
      "outputs": [],
      "source": [
        "classifier=DecisionTreeClassifier()\n",
        "classifier.fit(X_train_resampled,y_train_resampled)\n",
        "pred=classifier.predict(X_test)"
      ]
    },
    {
      "cell_type": "code",
      "execution_count": 52,
      "metadata": {
        "colab": {
          "base_uri": "https://localhost:8080/"
        },
        "id": "Py9ZYWTDlAJE",
        "outputId": "659a91dc-8e31-4cfd-e2e0-0b00983f7d35"
      },
      "outputs": [
        {
          "data": {
            "text/plain": [
              "0.7583333333333333"
            ]
          },
          "execution_count": 52,
          "metadata": {},
          "output_type": "execute_result"
        }
      ],
      "source": [
        "accuracy_score(y_test,pred)"
      ]
    },
    {
      "cell_type": "code",
      "execution_count": null,
      "metadata": {
        "id": "9idIs0oDlZjS"
      },
      "outputs": [],
      "source": []
    },
    {
      "cell_type": "code",
      "execution_count": null,
      "metadata": {},
      "outputs": [],
      "source": []
    },
    {
      "cell_type": "code",
      "execution_count": null,
      "metadata": {},
      "outputs": [],
      "source": []
    }
  ],
  "metadata": {
    "colab": {
      "provenance": []
    },
    "kernelspec": {
      "display_name": "Python 3",
      "name": "python3"
    },
    "language_info": {
      "codemirror_mode": {
        "name": "ipython",
        "version": 3
      },
      "file_extension": ".py",
      "mimetype": "text/x-python",
      "name": "python",
      "nbconvert_exporter": "python",
      "pygments_lexer": "ipython3",
      "version": "3.8.0"
    }
  },
  "nbformat": 4,
  "nbformat_minor": 0
}
