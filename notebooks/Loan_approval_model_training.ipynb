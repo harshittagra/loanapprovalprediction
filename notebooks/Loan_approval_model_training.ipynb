{
  "cells": [
    {
      "cell_type": "code",
      "execution_count": 2,
      "metadata": {
        "id": "hYnySTmiyOYI"
      },
      "outputs": [],
      "source": [
        "import pandas as pd\n",
        "import numpy as np\n",
        "import seaborn as sns\n",
        "import matplotlib.pyplot as plt\n",
        "import warnings\n",
        "warnings.filterwarnings('ignore')\n",
        "%matplotlib inline\n",
        "\n",
        "from sklearn.pipeline import Pipeline\n",
        "from sklearn.preprocessing import StandardScaler ## Feature Scaling\n",
        "from sklearn.preprocessing import OneHotEncoder ## categorical to numerical\n",
        "from sklearn.impute import SimpleImputer\n",
        "from sklearn.compose import ColumnTransformer\n",
        "from sklearn.model_selection import train_test_split\n",
        "from sklearn.metrics import accuracy_score,confusion_matrix,classification_report\n",
        "\n",
        "from sklearn.linear_model import LogisticRegression\n",
        "from sklearn.tree import DecisionTreeClassifier\n",
        "from sklearn.ensemble import RandomForestClassifier\n",
        "from sklearn.svm import SVC\n",
        "from sklearn.ensemble import AdaBoostClassifier\n",
        "from sklearn.ensemble import GradientBoostingClassifier"
      ]
    },
    {
      "cell_type": "code",
      "execution_count": 3,
      "metadata": {
        "id": "bhPh4jmkz411"
      },
      "outputs": [],
      "source": [
        "df=pd.read_csv('data/LoanApprovalPrediction.csv')"
      ]
    },
    {
      "cell_type": "code",
      "execution_count": 9,
      "metadata": {},
      "outputs": [
        {
          "data": {
            "text/plain": [
              "Index(['Loan_ID', 'Gender', 'Married', 'Dependents', 'Education',\n",
              "       'Self_Employed', 'ApplicantIncome', 'CoapplicantIncome', 'LoanAmount',\n",
              "       'Loan_Amount_Term', 'Credit_History', 'Property_Area', 'Loan_Status'],\n",
              "      dtype='object')"
            ]
          },
          "execution_count": 9,
          "metadata": {},
          "output_type": "execute_result"
        }
      ],
      "source": [
        "df.columns"
      ]
    },
    {
      "cell_type": "code",
      "execution_count": 4,
      "metadata": {
        "id": "0PJaimwnz_cX"
      },
      "outputs": [],
      "source": [
        "X=df.iloc[:,:-1]\n",
        "y=df.iloc[:,-1]"
      ]
    },
    {
      "cell_type": "code",
      "execution_count": 5,
      "metadata": {
        "id": "_caQp2Pw0b90"
      },
      "outputs": [],
      "source": [
        "cat_columns=X.columns[X.dtypes=='object']\n",
        "num_columns=X.columns[X.dtypes!='object']"
      ]
    },
    {
      "cell_type": "code",
      "execution_count": 8,
      "metadata": {},
      "outputs": [
        {
          "data": {
            "text/plain": [
              "Index(['Loan_ID', 'Gender', 'Married', 'Education', 'Self_Employed',\n",
              "       'Property_Area'],\n",
              "      dtype='object')"
            ]
          },
          "execution_count": 8,
          "metadata": {},
          "output_type": "execute_result"
        }
      ],
      "source": [
        "cat_columns"
      ]
    },
    {
      "cell_type": "code",
      "execution_count": 10,
      "metadata": {
        "id": "MUM4WSKs0hmC"
      },
      "outputs": [],
      "source": [
        "X_train,X_test,y_train,y_test=train_test_split(X,y,test_size=0.2,random_state=69)"
      ]
    },
    {
      "cell_type": "code",
      "execution_count": 11,
      "metadata": {
        "colab": {
          "base_uri": "https://localhost:8080/"
        },
        "id": "ayZ5_BNX0oSe",
        "outputId": "b9e659d4-d3a8-4b85-b8c1-f2124a56a8a5"
      },
      "outputs": [
        {
          "data": {
            "text/plain": [
              "((478, 12), (478,), (120, 12), (120,))"
            ]
          },
          "execution_count": 11,
          "metadata": {},
          "output_type": "execute_result"
        }
      ],
      "source": [
        "X_train.shape,y_train.shape,X_test.shape,y_test.shape"
      ]
    },
    {
      "cell_type": "code",
      "execution_count": 12,
      "metadata": {
        "id": "x-CWBPfi0uc9"
      },
      "outputs": [],
      "source": [
        "## feature Engineering Automation\n",
        "## Numerical Pipelines\n",
        "num_pipeline=Pipeline(\n",
        "    steps=[('imputer',SimpleImputer(strategy='median')),\n",
        "        ('scaler',StandardScaler()) ],verbose=3\n",
        "\n",
        ")\n",
        "\n",
        "#categorical Pipeline\n",
        "cat_pipeline=Pipeline(\n",
        "                steps=[('imputer',SimpleImputer(strategy='most_frequent')),\n",
        "                ('onehotencoder',OneHotEncoder(handle_unknown='ignore')),\n",
        "                       ('scaler',StandardScaler(with_mean=False))\n",
        "                ],verbose=3\n",
        "\n",
        "            )\n"
      ]
    },
    {
      "cell_type": "code",
      "execution_count": 13,
      "metadata": {
        "colab": {
          "base_uri": "https://localhost:8080/",
          "height": 186
        },
        "id": "8QcmlapODSss",
        "outputId": "a8a54f59-2ef9-43a2-a662-59bcaa42a667"
      },
      "outputs": [
        {
          "data": {
            "text/html": [
              "<style>#sk-container-id-1 {color: black;}#sk-container-id-1 pre{padding: 0;}#sk-container-id-1 div.sk-toggleable {background-color: white;}#sk-container-id-1 label.sk-toggleable__label {cursor: pointer;display: block;width: 100%;margin-bottom: 0;padding: 0.3em;box-sizing: border-box;text-align: center;}#sk-container-id-1 label.sk-toggleable__label-arrow:before {content: \"▸\";float: left;margin-right: 0.25em;color: #696969;}#sk-container-id-1 label.sk-toggleable__label-arrow:hover:before {color: black;}#sk-container-id-1 div.sk-estimator:hover label.sk-toggleable__label-arrow:before {color: black;}#sk-container-id-1 div.sk-toggleable__content {max-height: 0;max-width: 0;overflow: hidden;text-align: left;background-color: #f0f8ff;}#sk-container-id-1 div.sk-toggleable__content pre {margin: 0.2em;color: black;border-radius: 0.25em;background-color: #f0f8ff;}#sk-container-id-1 input.sk-toggleable__control:checked~div.sk-toggleable__content {max-height: 200px;max-width: 100%;overflow: auto;}#sk-container-id-1 input.sk-toggleable__control:checked~label.sk-toggleable__label-arrow:before {content: \"▾\";}#sk-container-id-1 div.sk-estimator input.sk-toggleable__control:checked~label.sk-toggleable__label {background-color: #d4ebff;}#sk-container-id-1 div.sk-label input.sk-toggleable__control:checked~label.sk-toggleable__label {background-color: #d4ebff;}#sk-container-id-1 input.sk-hidden--visually {border: 0;clip: rect(1px 1px 1px 1px);clip: rect(1px, 1px, 1px, 1px);height: 1px;margin: -1px;overflow: hidden;padding: 0;position: absolute;width: 1px;}#sk-container-id-1 div.sk-estimator {font-family: monospace;background-color: #f0f8ff;border: 1px dotted black;border-radius: 0.25em;box-sizing: border-box;margin-bottom: 0.5em;}#sk-container-id-1 div.sk-estimator:hover {background-color: #d4ebff;}#sk-container-id-1 div.sk-parallel-item::after {content: \"\";width: 100%;border-bottom: 1px solid gray;flex-grow: 1;}#sk-container-id-1 div.sk-label:hover label.sk-toggleable__label {background-color: #d4ebff;}#sk-container-id-1 div.sk-serial::before {content: \"\";position: absolute;border-left: 1px solid gray;box-sizing: border-box;top: 0;bottom: 0;left: 50%;z-index: 0;}#sk-container-id-1 div.sk-serial {display: flex;flex-direction: column;align-items: center;background-color: white;padding-right: 0.2em;padding-left: 0.2em;position: relative;}#sk-container-id-1 div.sk-item {position: relative;z-index: 1;}#sk-container-id-1 div.sk-parallel {display: flex;align-items: stretch;justify-content: center;background-color: white;position: relative;}#sk-container-id-1 div.sk-item::before, #sk-container-id-1 div.sk-parallel-item::before {content: \"\";position: absolute;border-left: 1px solid gray;box-sizing: border-box;top: 0;bottom: 0;left: 50%;z-index: -1;}#sk-container-id-1 div.sk-parallel-item {display: flex;flex-direction: column;z-index: 1;position: relative;background-color: white;}#sk-container-id-1 div.sk-parallel-item:first-child::after {align-self: flex-end;width: 50%;}#sk-container-id-1 div.sk-parallel-item:last-child::after {align-self: flex-start;width: 50%;}#sk-container-id-1 div.sk-parallel-item:only-child::after {width: 0;}#sk-container-id-1 div.sk-dashed-wrapped {border: 1px dashed gray;margin: 0 0.4em 0.5em 0.4em;box-sizing: border-box;padding-bottom: 0.4em;background-color: white;}#sk-container-id-1 div.sk-label label {font-family: monospace;font-weight: bold;display: inline-block;line-height: 1.2em;}#sk-container-id-1 div.sk-label-container {text-align: center;}#sk-container-id-1 div.sk-container {/* jupyter's `normalize.less` sets `[hidden] { display: none; }` but bootstrap.min.css set `[hidden] { display: none !important; }` so we also need the `!important` here to be able to override the default hidden behavior on the sphinx rendered scikit-learn.org. See: https://github.com/scikit-learn/scikit-learn/issues/21755 */display: inline-block !important;position: relative;}#sk-container-id-1 div.sk-text-repr-fallback {display: none;}</style><div id=\"sk-container-id-1\" class=\"sk-top-container\"><div class=\"sk-text-repr-fallback\"><pre>ColumnTransformer(transformers=[(&#x27;numpipeline&#x27;,\n",
              "                                 Pipeline(steps=[(&#x27;imputer&#x27;,\n",
              "                                                  SimpleImputer(strategy=&#x27;median&#x27;)),\n",
              "                                                 (&#x27;scaler&#x27;, StandardScaler())],\n",
              "                                          verbose=3),\n",
              "                                 Index([&#x27;Dependents&#x27;, &#x27;ApplicantIncome&#x27;, &#x27;CoapplicantIncome&#x27;, &#x27;LoanAmount&#x27;,\n",
              "       &#x27;Loan_Amount_Term&#x27;, &#x27;Credit_History&#x27;],\n",
              "      dtype=&#x27;object&#x27;)),\n",
              "                                (&#x27;catpipeline&#x27;,\n",
              "                                 Pipeline(steps=[(&#x27;imputer&#x27;,\n",
              "                                                  SimpleImputer(strategy=&#x27;most_frequent&#x27;)),\n",
              "                                                 (&#x27;onehotencoder&#x27;,\n",
              "                                                  OneHotEncoder(handle_unknown=&#x27;ignore&#x27;)),\n",
              "                                                 (&#x27;scaler&#x27;,\n",
              "                                                  StandardScaler(with_mean=False))],\n",
              "                                          verbose=3),\n",
              "                                 Index([&#x27;Loan_ID&#x27;, &#x27;Gender&#x27;, &#x27;Married&#x27;, &#x27;Education&#x27;, &#x27;Self_Employed&#x27;,\n",
              "       &#x27;Property_Area&#x27;],\n",
              "      dtype=&#x27;object&#x27;))])</pre><b>In a Jupyter environment, please rerun this cell to show the HTML representation or trust the notebook. <br />On GitHub, the HTML representation is unable to render, please try loading this page with nbviewer.org.</b></div><div class=\"sk-container\" hidden><div class=\"sk-item sk-dashed-wrapped\"><div class=\"sk-label-container\"><div class=\"sk-label sk-toggleable\"><input class=\"sk-toggleable__control sk-hidden--visually\" id=\"sk-estimator-id-1\" type=\"checkbox\" ><label for=\"sk-estimator-id-1\" class=\"sk-toggleable__label sk-toggleable__label-arrow\">ColumnTransformer</label><div class=\"sk-toggleable__content\"><pre>ColumnTransformer(transformers=[(&#x27;numpipeline&#x27;,\n",
              "                                 Pipeline(steps=[(&#x27;imputer&#x27;,\n",
              "                                                  SimpleImputer(strategy=&#x27;median&#x27;)),\n",
              "                                                 (&#x27;scaler&#x27;, StandardScaler())],\n",
              "                                          verbose=3),\n",
              "                                 Index([&#x27;Dependents&#x27;, &#x27;ApplicantIncome&#x27;, &#x27;CoapplicantIncome&#x27;, &#x27;LoanAmount&#x27;,\n",
              "       &#x27;Loan_Amount_Term&#x27;, &#x27;Credit_History&#x27;],\n",
              "      dtype=&#x27;object&#x27;)),\n",
              "                                (&#x27;catpipeline&#x27;,\n",
              "                                 Pipeline(steps=[(&#x27;imputer&#x27;,\n",
              "                                                  SimpleImputer(strategy=&#x27;most_frequent&#x27;)),\n",
              "                                                 (&#x27;onehotencoder&#x27;,\n",
              "                                                  OneHotEncoder(handle_unknown=&#x27;ignore&#x27;)),\n",
              "                                                 (&#x27;scaler&#x27;,\n",
              "                                                  StandardScaler(with_mean=False))],\n",
              "                                          verbose=3),\n",
              "                                 Index([&#x27;Loan_ID&#x27;, &#x27;Gender&#x27;, &#x27;Married&#x27;, &#x27;Education&#x27;, &#x27;Self_Employed&#x27;,\n",
              "       &#x27;Property_Area&#x27;],\n",
              "      dtype=&#x27;object&#x27;))])</pre></div></div></div><div class=\"sk-parallel\"><div class=\"sk-parallel-item\"><div class=\"sk-item\"><div class=\"sk-label-container\"><div class=\"sk-label sk-toggleable\"><input class=\"sk-toggleable__control sk-hidden--visually\" id=\"sk-estimator-id-2\" type=\"checkbox\" ><label for=\"sk-estimator-id-2\" class=\"sk-toggleable__label sk-toggleable__label-arrow\">numpipeline</label><div class=\"sk-toggleable__content\"><pre>Index([&#x27;Dependents&#x27;, &#x27;ApplicantIncome&#x27;, &#x27;CoapplicantIncome&#x27;, &#x27;LoanAmount&#x27;,\n",
              "       &#x27;Loan_Amount_Term&#x27;, &#x27;Credit_History&#x27;],\n",
              "      dtype=&#x27;object&#x27;)</pre></div></div></div><div class=\"sk-serial\"><div class=\"sk-item\"><div class=\"sk-serial\"><div class=\"sk-item\"><div class=\"sk-estimator sk-toggleable\"><input class=\"sk-toggleable__control sk-hidden--visually\" id=\"sk-estimator-id-3\" type=\"checkbox\" ><label for=\"sk-estimator-id-3\" class=\"sk-toggleable__label sk-toggleable__label-arrow\">SimpleImputer</label><div class=\"sk-toggleable__content\"><pre>SimpleImputer(strategy=&#x27;median&#x27;)</pre></div></div></div><div class=\"sk-item\"><div class=\"sk-estimator sk-toggleable\"><input class=\"sk-toggleable__control sk-hidden--visually\" id=\"sk-estimator-id-4\" type=\"checkbox\" ><label for=\"sk-estimator-id-4\" class=\"sk-toggleable__label sk-toggleable__label-arrow\">StandardScaler</label><div class=\"sk-toggleable__content\"><pre>StandardScaler()</pre></div></div></div></div></div></div></div></div><div class=\"sk-parallel-item\"><div class=\"sk-item\"><div class=\"sk-label-container\"><div class=\"sk-label sk-toggleable\"><input class=\"sk-toggleable__control sk-hidden--visually\" id=\"sk-estimator-id-5\" type=\"checkbox\" ><label for=\"sk-estimator-id-5\" class=\"sk-toggleable__label sk-toggleable__label-arrow\">catpipeline</label><div class=\"sk-toggleable__content\"><pre>Index([&#x27;Loan_ID&#x27;, &#x27;Gender&#x27;, &#x27;Married&#x27;, &#x27;Education&#x27;, &#x27;Self_Employed&#x27;,\n",
              "       &#x27;Property_Area&#x27;],\n",
              "      dtype=&#x27;object&#x27;)</pre></div></div></div><div class=\"sk-serial\"><div class=\"sk-item\"><div class=\"sk-serial\"><div class=\"sk-item\"><div class=\"sk-estimator sk-toggleable\"><input class=\"sk-toggleable__control sk-hidden--visually\" id=\"sk-estimator-id-6\" type=\"checkbox\" ><label for=\"sk-estimator-id-6\" class=\"sk-toggleable__label sk-toggleable__label-arrow\">SimpleImputer</label><div class=\"sk-toggleable__content\"><pre>SimpleImputer(strategy=&#x27;most_frequent&#x27;)</pre></div></div></div><div class=\"sk-item\"><div class=\"sk-estimator sk-toggleable\"><input class=\"sk-toggleable__control sk-hidden--visually\" id=\"sk-estimator-id-7\" type=\"checkbox\" ><label for=\"sk-estimator-id-7\" class=\"sk-toggleable__label sk-toggleable__label-arrow\">OneHotEncoder</label><div class=\"sk-toggleable__content\"><pre>OneHotEncoder(handle_unknown=&#x27;ignore&#x27;)</pre></div></div></div><div class=\"sk-item\"><div class=\"sk-estimator sk-toggleable\"><input class=\"sk-toggleable__control sk-hidden--visually\" id=\"sk-estimator-id-8\" type=\"checkbox\" ><label for=\"sk-estimator-id-8\" class=\"sk-toggleable__label sk-toggleable__label-arrow\">StandardScaler</label><div class=\"sk-toggleable__content\"><pre>StandardScaler(with_mean=False)</pre></div></div></div></div></div></div></div></div></div></div></div></div>"
            ],
            "text/plain": [
              "ColumnTransformer(transformers=[('numpipeline',\n",
              "                                 Pipeline(steps=[('imputer',\n",
              "                                                  SimpleImputer(strategy='median')),\n",
              "                                                 ('scaler', StandardScaler())],\n",
              "                                          verbose=3),\n",
              "                                 Index(['Dependents', 'ApplicantIncome', 'CoapplicantIncome', 'LoanAmount',\n",
              "       'Loan_Amount_Term', 'Credit_History'],\n",
              "      dtype='object')),\n",
              "                                ('catpipeline',\n",
              "                                 Pipeline(steps=[('imputer',\n",
              "                                                  SimpleImputer(strategy='most_frequent')),\n",
              "                                                 ('onehotencoder',\n",
              "                                                  OneHotEncoder(handle_unknown='ignore')),\n",
              "                                                 ('scaler',\n",
              "                                                  StandardScaler(with_mean=False))],\n",
              "                                          verbose=3),\n",
              "                                 Index(['Loan_ID', 'Gender', 'Married', 'Education', 'Self_Employed',\n",
              "       'Property_Area'],\n",
              "      dtype='object'))])"
            ]
          },
          "execution_count": 13,
          "metadata": {},
          "output_type": "execute_result"
        }
      ],
      "source": [
        "\n",
        "preprocessor= ColumnTransformer([\n",
        "    ('numpipeline',num_pipeline,num_columns),\n",
        "    ('catpipeline',cat_pipeline,cat_columns)]\n",
        "\n",
        ")\n",
        "preprocessor"
      ]
    },
    {
      "cell_type": "code",
      "execution_count": 14,
      "metadata": {
        "colab": {
          "base_uri": "https://localhost:8080/"
        },
        "id": "Uf_BaiUJFgUp",
        "outputId": "3f38b4ac-b044-42c1-eae5-a96010bb04f1"
      },
      "outputs": [
        {
          "name": "stdout",
          "output_type": "stream",
          "text": [
            "[Pipeline] ........... (step 1 of 2) Processing imputer, total=   0.0s\n",
            "[Pipeline] ............ (step 2 of 2) Processing scaler, total=   0.0s\n",
            "[Pipeline] ........... (step 1 of 3) Processing imputer, total=   0.0s\n",
            "[Pipeline] ..... (step 2 of 3) Processing onehotencoder, total=   0.0s\n",
            "[Pipeline] ............ (step 3 of 3) Processing scaler, total=   0.1s\n"
          ]
        }
      ],
      "source": [
        "X_train=preprocessor.fit_transform(X_train)\n",
        "X_test=preprocessor.transform(X_test)"
      ]
    },
    {
      "cell_type": "code",
      "execution_count": 20,
      "metadata": {
        "id": "3sWDHOufGyyO"
      },
      "outputs": [],
      "source": [
        "from imblearn.over_sampling import SMOTE\n",
        "smote=SMOTE(random_state=69)\n",
        "X_train_resampled,y_train_resampled=smote.fit_resample(X_train,y_train)"
      ]
    },
    {
      "cell_type": "code",
      "execution_count": 21,
      "metadata": {
        "colab": {
          "base_uri": "https://localhost:8080/"
        },
        "id": "PfxufOOnnGKr",
        "outputId": "656b33c2-e3f7-40ad-ded2-04ea16b0959f"
      },
      "outputs": [
        {
          "data": {
            "text/plain": [
              "((656, 495), (656,))"
            ]
          },
          "execution_count": 21,
          "metadata": {},
          "output_type": "execute_result"
        }
      ],
      "source": [
        "X_train_resampled.shape,y_train_resampled.shape"
      ]
    },
    {
      "cell_type": "code",
      "execution_count": 22,
      "metadata": {
        "id": "BTGFnS5uHl8c"
      },
      "outputs": [],
      "source": [
        "models={\n",
        "    \"Logistic Regression\":LogisticRegression(),\n",
        "    \"Decision Tree Classifier\":DecisionTreeClassifier(),\n",
        "    \"Random Forest Classifier\": RandomForestClassifier(),\n",
        "    \"Support Vector Classifier\": SVC(),\n",
        "    \"Ada Boost Classifier\":AdaBoostClassifier(),\n",
        "    \"Gradient Boost Classifier\":GradientBoostingClassifier()\n",
        "}"
      ]
    },
    {
      "cell_type": "code",
      "execution_count": 23,
      "metadata": {
        "id": "HZK6VgS0JnmA"
      },
      "outputs": [],
      "source": [
        "from sklearn.model_selection import GridSearchCV, cross_val_score\n",
        "\n",
        "def evaluate_model(X_train, X_test, y_train, y_test, models, param_grids, cv=5):\n",
        "    train_scores = {}\n",
        "    test_scores = {}\n",
        "\n",
        "    for name, clf in models.items():\n",
        "        # Define parameter grid for GridSearchCV\n",
        "        param_grid = param_grids.get(name, {})  # Get parameter grid for the current model\n",
        "\n",
        "        # Perform GridSearchCV with cross-validation\n",
        "        grid_search = GridSearchCV(clf, param_grid, cv=cv, scoring='accuracy', n_jobs=-1)\n",
        "        grid_search.fit(X_train, y_train)\n",
        "\n",
        "        # Best model from GridSearchCV\n",
        "        best_clf = grid_search.best_estimator_\n",
        "\n",
        "        # Training accuracy using cross-validation\n",
        "        train_cv_scores = cross_val_score(best_clf, X_train, y_train, cv=cv, scoring='accuracy')\n",
        "        train_accuracy = train_cv_scores.mean()\n",
        "\n",
        "        # Testing accuracy\n",
        "        test_accuracy = accuracy_score(y_test, best_clf.predict(X_test))\n",
        "\n",
        "        # Store accuracies\n",
        "        train_scores[name] = train_accuracy\n",
        "        test_scores[name] = test_accuracy\n",
        "\n",
        "        # Print results\n",
        "        print(confusion_matrix(y_test,best_clf.predict(X_test)))\n",
        "        print(classification_report(y_test,best_clf.predict(X_test)))\n",
        "        print(f\"{name} Cross-Validation Training Accuracy: {train_accuracy:.4f}\")\n",
        "        print(f\"{name} Testing Accuracy: {test_accuracy:.4f}\")\n",
        "        print(f\"{name} Best Parameters: {grid_search.best_params_}\")\n",
        "        print(\"-\" * 40)\n",
        "\n",
        "\n"
      ]
    },
    {
      "cell_type": "code",
      "execution_count": 24,
      "metadata": {
        "id": "l1xe19ZEpBak"
      },
      "outputs": [],
      "source": [
        "# Define parameter grids for each model\n",
        "param_grids = {\n",
        "    \"Logistic Regression\": {\n",
        "        \"C\": [0.1, 1.0, 10.0],\n",
        "        \"penalty\": [\"l1\", \"l2\"]\n",
        "    },\n",
        "    \"Decision Tree Classifier\": {\n",
        "        \"max_depth\": [None, 10, 20],\n",
        "        \"min_samples_split\": [2, 5, 10]\n",
        "    },\n",
        "    \"Random Forest Classifier\": {\n",
        "        \"n_estimators\": [100, 200, 300],\n",
        "        \"max_depth\": [None, 10, 20],\n",
        "        \"min_samples_split\": [2, 5, 10]\n",
        "    },\n",
        "    \"Support Vector Classifier\": {\n",
        "        \"C\": [0.1, 1.0, 10.0],\n",
        "        \"kernel\": [\"linear\", \"rbf\"]\n",
        "    },\n",
        "    \"Ada Boost Classifier\": {\n",
        "        \"n_estimators\": [50, 100, 200],\n",
        "        \"learning_rate\": [0.01, 0.1, 1.0]\n",
        "    },\n",
        "    \"Gradient Boost Classifier\": {\n",
        "        \"n_estimators\": [50, 100, 200],\n",
        "        \"learning_rate\": [0.01, 0.1, 1.0],\n",
        "        \"max_depth\": [3, 5, 7]\n",
        "    }\n",
        "\n",
        "}\n"
      ]
    },
    {
      "cell_type": "code",
      "execution_count": 25,
      "metadata": {
        "colab": {
          "base_uri": "https://localhost:8080/"
        },
        "id": "QJvPuBM0obYW",
        "outputId": "41e6d623-9b93-40de-8a78-1e8ba604667b"
      },
      "outputs": [
        {
          "name": "stdout",
          "output_type": "stream",
          "text": [
            "[[20 17]\n",
            " [ 0 83]]\n",
            "              precision    recall  f1-score   support\n",
            "\n",
            "           N       1.00      0.54      0.70        37\n",
            "           Y       0.83      1.00      0.91        83\n",
            "\n",
            "    accuracy                           0.86       120\n",
            "   macro avg       0.92      0.77      0.80       120\n",
            "weighted avg       0.88      0.86      0.84       120\n",
            "\n",
            "Logistic Regression Cross-Validation Training Accuracy: 0.9589\n",
            "Logistic Regression Testing Accuracy: 0.8583\n",
            "Logistic Regression Best Parameters: {'C': 10.0, 'penalty': 'l2'}\n",
            "----------------------------------------\n",
            "[[22 15]\n",
            " [ 9 74]]\n",
            "              precision    recall  f1-score   support\n",
            "\n",
            "           N       0.71      0.59      0.65        37\n",
            "           Y       0.83      0.89      0.86        83\n",
            "\n",
            "    accuracy                           0.80       120\n",
            "   macro avg       0.77      0.74      0.75       120\n",
            "weighted avg       0.79      0.80      0.79       120\n",
            "\n",
            "Decision Tree Classifier Cross-Validation Training Accuracy: 0.8187\n",
            "Decision Tree Classifier Testing Accuracy: 0.8000\n",
            "Decision Tree Classifier Best Parameters: {'max_depth': None, 'min_samples_split': 2}\n",
            "----------------------------------------\n",
            "[[21 16]\n",
            " [ 1 82]]\n",
            "              precision    recall  f1-score   support\n",
            "\n",
            "           N       0.95      0.57      0.71        37\n",
            "           Y       0.84      0.99      0.91        83\n",
            "\n",
            "    accuracy                           0.86       120\n",
            "   macro avg       0.90      0.78      0.81       120\n",
            "weighted avg       0.87      0.86      0.85       120\n",
            "\n",
            "Random Forest Classifier Cross-Validation Training Accuracy: 0.8813\n",
            "Random Forest Classifier Testing Accuracy: 0.8583\n",
            "Random Forest Classifier Best Parameters: {'max_depth': None, 'min_samples_split': 2, 'n_estimators': 200}\n",
            "----------------------------------------\n",
            "[[20 17]\n",
            " [ 0 83]]\n",
            "              precision    recall  f1-score   support\n",
            "\n",
            "           N       1.00      0.54      0.70        37\n",
            "           Y       0.83      1.00      0.91        83\n",
            "\n",
            "    accuracy                           0.86       120\n",
            "   macro avg       0.92      0.77      0.80       120\n",
            "weighted avg       0.88      0.86      0.84       120\n",
            "\n",
            "Support Vector Classifier Cross-Validation Training Accuracy: 0.9604\n",
            "Support Vector Classifier Testing Accuracy: 0.8583\n",
            "Support Vector Classifier Best Parameters: {'C': 0.1, 'kernel': 'linear'}\n",
            "----------------------------------------\n",
            "[[22 15]\n",
            " [ 2 81]]\n",
            "              precision    recall  f1-score   support\n",
            "\n",
            "           N       0.92      0.59      0.72        37\n",
            "           Y       0.84      0.98      0.91        83\n",
            "\n",
            "    accuracy                           0.86       120\n",
            "   macro avg       0.88      0.79      0.81       120\n",
            "weighted avg       0.87      0.86      0.85       120\n",
            "\n",
            "Ada Boost Classifier Cross-Validation Training Accuracy: 0.8691\n",
            "Ada Boost Classifier Testing Accuracy: 0.8583\n",
            "Ada Boost Classifier Best Parameters: {'learning_rate': 1.0, 'n_estimators': 200}\n",
            "----------------------------------------\n",
            "[[21 16]\n",
            " [ 1 82]]\n",
            "              precision    recall  f1-score   support\n",
            "\n",
            "           N       0.95      0.57      0.71        37\n",
            "           Y       0.84      0.99      0.91        83\n",
            "\n",
            "    accuracy                           0.86       120\n",
            "   macro avg       0.90      0.78      0.81       120\n",
            "weighted avg       0.87      0.86      0.85       120\n",
            "\n",
            "Gradient Boost Classifier Cross-Validation Training Accuracy: 0.8599\n",
            "Gradient Boost Classifier Testing Accuracy: 0.8583\n",
            "Gradient Boost Classifier Best Parameters: {'learning_rate': 1.0, 'max_depth': 5, 'n_estimators': 100}\n",
            "----------------------------------------\n"
          ]
        }
      ],
      "source": [
        "evaluate_model(X_train_resampled,X_test,y_train_resampled,y_test,models, param_grids, cv=5)"
      ]
    },
    {
      "cell_type": "code",
      "execution_count": 26,
      "metadata": {
        "colab": {
          "base_uri": "https://localhost:8080/"
        },
        "id": "9TpmYtt0r4Ns",
        "outputId": "12f36e9e-0da5-45aa-dcaa-8aea38dd0ddf"
      },
      "outputs": [
        {
          "data": {
            "text/plain": [
              "['Logistic Regression',\n",
              " 'Decision Tree Classifier',\n",
              " 'Random Forest Classifier',\n",
              " 'Support Vector Classifier',\n",
              " 'Ada Boost Classifier',\n",
              " 'Gradient Boost Classifier']"
            ]
          },
          "execution_count": 26,
          "metadata": {},
          "output_type": "execute_result"
        }
      ],
      "source": [
        "#printing list of models used.\n",
        "list(models)"
      ]
    },
    {
      "cell_type": "code",
      "execution_count": null,
      "metadata": {
        "id": "221q0ev6tSO9"
      },
      "outputs": [],
      "source": []
    },
    {
      "cell_type": "code",
      "execution_count": null,
      "metadata": {},
      "outputs": [],
      "source": []
    }
  ],
  "metadata": {
    "accelerator": "GPU",
    "colab": {
      "gpuType": "T4",
      "provenance": []
    },
    "kernelspec": {
      "display_name": "Python 3",
      "name": "python3"
    },
    "language_info": {
      "codemirror_mode": {
        "name": "ipython",
        "version": 3
      },
      "file_extension": ".py",
      "mimetype": "text/x-python",
      "name": "python",
      "nbconvert_exporter": "python",
      "pygments_lexer": "ipython3",
      "version": "3.8.0"
    }
  },
  "nbformat": 4,
  "nbformat_minor": 0
}
